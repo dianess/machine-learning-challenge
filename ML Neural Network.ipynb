{
 "cells": [
  {
   "cell_type": "markdown",
   "metadata": {},
   "source": [
    "# Neural Network"
   ]
  },
  {
   "cell_type": "code",
   "execution_count": 1,
   "metadata": {},
   "outputs": [],
   "source": [
    "# Imports\n",
    "# %matplotlib inline\n",
    "import matplotlib.pyplot as plt\n",
    "import numpy as np\n",
    "import pandas as pd\n",
    "import tensorflow\n",
    "\n",
    "from numpy.random import seed\n",
    "from sklearn.metrics import classification_report\n",
    "from sklearn.model_selection import train_test_split\n",
    "from sklearn.neighbors import KNeighborsClassifier\n",
    "from sklearn.preprocessing import LabelEncoder, MinMaxScaler\n",
    "from tensorflow.keras.layers import Dense\n",
    "from tensorflow.keras.models import Sequential\n",
    "from tensorflow.keras.utils import to_categorical"
   ]
  },
  {
   "cell_type": "code",
   "execution_count": 2,
   "metadata": {},
   "outputs": [],
   "source": [
    "# Set the seed value for the notebook so the results are reproducible\n",
    "seed(42)"
   ]
  },
  {
   "cell_type": "code",
   "execution_count": 3,
   "metadata": {},
   "outputs": [
    {
     "data": {
      "text/html": [
       "<div>\n",
       "<style scoped>\n",
       "    .dataframe tbody tr th:only-of-type {\n",
       "        vertical-align: middle;\n",
       "    }\n",
       "\n",
       "    .dataframe tbody tr th {\n",
       "        vertical-align: top;\n",
       "    }\n",
       "\n",
       "    .dataframe thead th {\n",
       "        text-align: right;\n",
       "    }\n",
       "</style>\n",
       "<table border=\"1\" class=\"dataframe\">\n",
       "  <thead>\n",
       "    <tr style=\"text-align: right;\">\n",
       "      <th></th>\n",
       "      <th>koi_disposition</th>\n",
       "      <th>koi_score</th>\n",
       "      <th>koi_period</th>\n",
       "      <th>koi_time0bk</th>\n",
       "      <th>koi_impact</th>\n",
       "      <th>koi_duration</th>\n",
       "      <th>koi_depth</th>\n",
       "      <th>koi_prad</th>\n",
       "      <th>koi_teq</th>\n",
       "      <th>koi_insol</th>\n",
       "      <th>koi_steff</th>\n",
       "      <th>koi_slogg</th>\n",
       "      <th>koi_srad</th>\n",
       "      <th>ra</th>\n",
       "      <th>dec</th>\n",
       "      <th>koi_kepmag</th>\n",
       "    </tr>\n",
       "  </thead>\n",
       "  <tbody>\n",
       "    <tr>\n",
       "      <th>0</th>\n",
       "      <td>1</td>\n",
       "      <td>1.000</td>\n",
       "      <td>9.488036</td>\n",
       "      <td>170.538750</td>\n",
       "      <td>0.146</td>\n",
       "      <td>2.95750</td>\n",
       "      <td>615.8</td>\n",
       "      <td>2.26</td>\n",
       "      <td>793</td>\n",
       "      <td>93.59</td>\n",
       "      <td>5455</td>\n",
       "      <td>4.467</td>\n",
       "      <td>0.927</td>\n",
       "      <td>291.93423</td>\n",
       "      <td>48.141651</td>\n",
       "      <td>15.347</td>\n",
       "    </tr>\n",
       "    <tr>\n",
       "      <th>1</th>\n",
       "      <td>1</td>\n",
       "      <td>0.969</td>\n",
       "      <td>54.418383</td>\n",
       "      <td>162.513840</td>\n",
       "      <td>0.586</td>\n",
       "      <td>4.50700</td>\n",
       "      <td>874.8</td>\n",
       "      <td>2.83</td>\n",
       "      <td>443</td>\n",
       "      <td>9.11</td>\n",
       "      <td>5455</td>\n",
       "      <td>4.467</td>\n",
       "      <td>0.927</td>\n",
       "      <td>291.93423</td>\n",
       "      <td>48.141651</td>\n",
       "      <td>15.347</td>\n",
       "    </tr>\n",
       "    <tr>\n",
       "      <th>2</th>\n",
       "      <td>3</td>\n",
       "      <td>0.000</td>\n",
       "      <td>19.899140</td>\n",
       "      <td>175.850252</td>\n",
       "      <td>0.969</td>\n",
       "      <td>1.78220</td>\n",
       "      <td>10829.0</td>\n",
       "      <td>14.60</td>\n",
       "      <td>638</td>\n",
       "      <td>39.30</td>\n",
       "      <td>5853</td>\n",
       "      <td>4.544</td>\n",
       "      <td>0.868</td>\n",
       "      <td>297.00482</td>\n",
       "      <td>48.134129</td>\n",
       "      <td>15.436</td>\n",
       "    </tr>\n",
       "    <tr>\n",
       "      <th>3</th>\n",
       "      <td>3</td>\n",
       "      <td>0.000</td>\n",
       "      <td>1.736952</td>\n",
       "      <td>170.307565</td>\n",
       "      <td>1.276</td>\n",
       "      <td>2.40641</td>\n",
       "      <td>8079.2</td>\n",
       "      <td>33.46</td>\n",
       "      <td>1395</td>\n",
       "      <td>891.96</td>\n",
       "      <td>5805</td>\n",
       "      <td>4.564</td>\n",
       "      <td>0.791</td>\n",
       "      <td>285.53461</td>\n",
       "      <td>48.285210</td>\n",
       "      <td>15.597</td>\n",
       "    </tr>\n",
       "    <tr>\n",
       "      <th>4</th>\n",
       "      <td>1</td>\n",
       "      <td>1.000</td>\n",
       "      <td>2.525592</td>\n",
       "      <td>171.595550</td>\n",
       "      <td>0.701</td>\n",
       "      <td>1.65450</td>\n",
       "      <td>603.3</td>\n",
       "      <td>2.75</td>\n",
       "      <td>1406</td>\n",
       "      <td>926.16</td>\n",
       "      <td>6031</td>\n",
       "      <td>4.438</td>\n",
       "      <td>1.046</td>\n",
       "      <td>288.75488</td>\n",
       "      <td>48.226200</td>\n",
       "      <td>15.509</td>\n",
       "    </tr>\n",
       "  </tbody>\n",
       "</table>\n",
       "</div>"
      ],
      "text/plain": [
       "   koi_disposition  koi_score  koi_period  koi_time0bk  koi_impact  \\\n",
       "0                1      1.000    9.488036   170.538750       0.146   \n",
       "1                1      0.969   54.418383   162.513840       0.586   \n",
       "2                3      0.000   19.899140   175.850252       0.969   \n",
       "3                3      0.000    1.736952   170.307565       1.276   \n",
       "4                1      1.000    2.525592   171.595550       0.701   \n",
       "\n",
       "   koi_duration  koi_depth  koi_prad  koi_teq  koi_insol  koi_steff  \\\n",
       "0       2.95750      615.8      2.26      793      93.59       5455   \n",
       "1       4.50700      874.8      2.83      443       9.11       5455   \n",
       "2       1.78220    10829.0     14.60      638      39.30       5853   \n",
       "3       2.40641     8079.2     33.46     1395     891.96       5805   \n",
       "4       1.65450      603.3      2.75     1406     926.16       6031   \n",
       "\n",
       "   koi_slogg  koi_srad         ra        dec  koi_kepmag  \n",
       "0      4.467     0.927  291.93423  48.141651      15.347  \n",
       "1      4.467     0.927  291.93423  48.141651      15.347  \n",
       "2      4.544     0.868  297.00482  48.134129      15.436  \n",
       "3      4.564     0.791  285.53461  48.285210      15.597  \n",
       "4      4.438     1.046  288.75488  48.226200      15.509  "
      ]
     },
     "execution_count": 3,
     "metadata": {},
     "output_type": "execute_result"
    }
   ],
   "source": [
    "# Read the csv file into a pandas DataFrame\n",
    "exoplanet_complete_kNN = pd.read_csv('exoplanet_complete_kNN.csv')\n",
    "exoplanet_complete_kNN.head()"
   ]
  },
  {
   "cell_type": "code",
   "execution_count": 4,
   "metadata": {},
   "outputs": [
    {
     "data": {
      "text/plain": [
       "'2.2.4-tf'"
      ]
     },
     "execution_count": 4,
     "metadata": {},
     "output_type": "execute_result"
    }
   ],
   "source": [
    "# Check tensorflow.keras version\n",
    "tensorflow.keras.__version__"
   ]
  },
  {
   "cell_type": "markdown",
   "metadata": {},
   "source": [
    "## Data Preprocessing"
   ]
  },
  {
   "cell_type": "code",
   "execution_count": 5,
   "metadata": {},
   "outputs": [
    {
     "name": "stdout",
     "output_type": "stream",
     "text": [
      "(7994, 15) (7994,)\n"
     ]
    }
   ],
   "source": [
    "# Drop koi_disposition from the X values, use it as our dependent variable y\n",
    "X = exoplanet_complete_kNN.drop(\"koi_disposition\", axis=1)\n",
    "y = exoplanet_complete_kNN[\"koi_disposition\"]\n",
    "print(X.shape, y.shape)"
   ]
  },
  {
   "cell_type": "code",
   "execution_count": 6,
   "metadata": {},
   "outputs": [],
   "source": [
    "X_train, X_test, y_train, y_test = train_test_split(\n",
    "    X, y, random_state=1, stratify=y)"
   ]
  },
  {
   "cell_type": "code",
   "execution_count": 7,
   "metadata": {},
   "outputs": [
    {
     "name": "stderr",
     "output_type": "stream",
     "text": [
      "/anaconda3/lib/python3.7/site-packages/sklearn/preprocessing/data.py:334: DataConversionWarning: Data with input dtype int64, float64 were all converted to float64 by MinMaxScaler.\n",
      "  return self.partial_fit(X, y)\n"
     ]
    }
   ],
   "source": [
    "X_scaler = MinMaxScaler().fit(X_train)\n",
    "X_train_scaled = X_scaler.transform(X_train)\n",
    "X_test_scaled = X_scaler.transform(X_test)"
   ]
  },
  {
   "cell_type": "code",
   "execution_count": 8,
   "metadata": {},
   "outputs": [],
   "source": [
    "# Step 1: Label-encode data set\n",
    "label_encoder = LabelEncoder()\n",
    "label_encoder.fit(y_train)\n",
    "encoded_y_train = label_encoder.transform(y_train)\n",
    "encoded_y_test = label_encoder.transform(y_test)"
   ]
  },
  {
   "cell_type": "code",
   "execution_count": 9,
   "metadata": {},
   "outputs": [
    {
     "data": {
      "text/plain": [
       "array([[0., 1., 0.],\n",
       "       [0., 1., 0.],\n",
       "       [1., 0., 0.],\n",
       "       ...,\n",
       "       [0., 0., 1.],\n",
       "       [1., 0., 0.],\n",
       "       [1., 0., 0.]], dtype=float32)"
      ]
     },
     "execution_count": 9,
     "metadata": {},
     "output_type": "execute_result"
    }
   ],
   "source": [
    "# Step 2: Convert encoded labels to one-hot-encoding\n",
    "y_train_categorical = to_categorical(encoded_y_train)\n",
    "y_test_categorical = to_categorical(encoded_y_test)\n",
    "y_train_categorical\n"
   ]
  },
  {
   "cell_type": "markdown",
   "metadata": {},
   "source": [
    "## Create a Deep Learning Model"
   ]
  },
  {
   "cell_type": "code",
   "execution_count": 10,
   "metadata": {},
   "outputs": [],
   "source": [
    "# Create model and add layers\n",
    "model = Sequential()"
   ]
  },
  {
   "cell_type": "code",
   "execution_count": 11,
   "metadata": {},
   "outputs": [],
   "source": [
    "number_inputs = 15\n",
    "number_hidden_nodes = 45\n",
    "model.add(Dense(units=number_hidden_nodes,\n",
    "                activation='relu', input_dim=number_inputs))"
   ]
  },
  {
   "cell_type": "code",
   "execution_count": 12,
   "metadata": {},
   "outputs": [],
   "source": [
    "number_classes = 3\n",
    "model.add(Dense(units=number_classes, activation='softmax'))"
   ]
  },
  {
   "cell_type": "code",
   "execution_count": 13,
   "metadata": {},
   "outputs": [],
   "source": [
    "# Compile and fit the model\n",
    "model.compile(optimizer='adam',\n",
    "              loss='categorical_crossentropy',\n",
    "              metrics=['accuracy'])"
   ]
  },
  {
   "cell_type": "code",
   "execution_count": 14,
   "metadata": {},
   "outputs": [
    {
     "name": "stdout",
     "output_type": "stream",
     "text": [
      "Model: \"sequential\"\n",
      "_________________________________________________________________\n",
      "Layer (type)                 Output Shape              Param #   \n",
      "=================================================================\n",
      "dense (Dense)                (None, 45)                720       \n",
      "_________________________________________________________________\n",
      "dense_1 (Dense)              (None, 3)                 138       \n",
      "=================================================================\n",
      "Total params: 858\n",
      "Trainable params: 858\n",
      "Non-trainable params: 0\n",
      "_________________________________________________________________\n"
     ]
    }
   ],
   "source": [
    "model.summary()"
   ]
  },
  {
   "cell_type": "code",
   "execution_count": 15,
   "metadata": {},
   "outputs": [
    {
     "name": "stdout",
     "output_type": "stream",
     "text": [
      "Train on 5995 samples\n",
      "Epoch 1/100\n",
      "5995/5995 - 1s - loss: 0.7530 - accuracy: 0.7133\n",
      "Epoch 2/100\n",
      "5995/5995 - 0s - loss: 0.4560 - accuracy: 0.7738\n",
      "Epoch 3/100\n",
      "5995/5995 - 0s - loss: 0.4064 - accuracy: 0.7908\n",
      "Epoch 4/100\n",
      "5995/5995 - 0s - loss: 0.3956 - accuracy: 0.7943\n",
      "Epoch 5/100\n",
      "5995/5995 - 0s - loss: 0.3905 - accuracy: 0.7975\n",
      "Epoch 6/100\n",
      "5995/5995 - 0s - loss: 0.3880 - accuracy: 0.8002\n",
      "Epoch 7/100\n",
      "5995/5995 - 0s - loss: 0.3860 - accuracy: 0.8008\n",
      "Epoch 8/100\n",
      "5995/5995 - 0s - loss: 0.3864 - accuracy: 0.7987\n",
      "Epoch 9/100\n",
      "5995/5995 - 0s - loss: 0.3835 - accuracy: 0.8023\n",
      "Epoch 10/100\n",
      "5995/5995 - 0s - loss: 0.3818 - accuracy: 0.8030\n",
      "Epoch 11/100\n",
      "5995/5995 - 0s - loss: 0.3806 - accuracy: 0.8040\n",
      "Epoch 12/100\n",
      "5995/5995 - 0s - loss: 0.3799 - accuracy: 0.8097\n",
      "Epoch 13/100\n",
      "5995/5995 - 0s - loss: 0.3782 - accuracy: 0.8038\n",
      "Epoch 14/100\n",
      "5995/5995 - 0s - loss: 0.3776 - accuracy: 0.8102\n",
      "Epoch 15/100\n",
      "5995/5995 - 0s - loss: 0.3766 - accuracy: 0.8035\n",
      "Epoch 16/100\n",
      "5995/5995 - 0s - loss: 0.3759 - accuracy: 0.8073\n",
      "Epoch 17/100\n",
      "5995/5995 - 0s - loss: 0.3745 - accuracy: 0.8068\n",
      "Epoch 18/100\n",
      "5995/5995 - 0s - loss: 0.3732 - accuracy: 0.8108\n",
      "Epoch 19/100\n",
      "5995/5995 - 0s - loss: 0.3724 - accuracy: 0.8125\n",
      "Epoch 20/100\n",
      "5995/5995 - 0s - loss: 0.3716 - accuracy: 0.8118\n",
      "Epoch 21/100\n",
      "5995/5995 - 0s - loss: 0.3701 - accuracy: 0.8118\n",
      "Epoch 22/100\n",
      "5995/5995 - 0s - loss: 0.3698 - accuracy: 0.8138\n",
      "Epoch 23/100\n",
      "5995/5995 - 0s - loss: 0.3688 - accuracy: 0.8110\n",
      "Epoch 24/100\n",
      "5995/5995 - 0s - loss: 0.3687 - accuracy: 0.8123\n",
      "Epoch 25/100\n",
      "5995/5995 - 0s - loss: 0.3678 - accuracy: 0.8148\n",
      "Epoch 26/100\n",
      "5995/5995 - 0s - loss: 0.3674 - accuracy: 0.8103\n",
      "Epoch 27/100\n",
      "5995/5995 - 0s - loss: 0.3677 - accuracy: 0.8113\n",
      "Epoch 28/100\n",
      "5995/5995 - 0s - loss: 0.3659 - accuracy: 0.8150\n",
      "Epoch 29/100\n",
      "5995/5995 - 0s - loss: 0.3655 - accuracy: 0.8148\n",
      "Epoch 30/100\n",
      "5995/5995 - 0s - loss: 0.3654 - accuracy: 0.8123\n",
      "Epoch 31/100\n",
      "5995/5995 - 0s - loss: 0.3664 - accuracy: 0.8128\n",
      "Epoch 32/100\n",
      "5995/5995 - 0s - loss: 0.3647 - accuracy: 0.8127\n",
      "Epoch 33/100\n",
      "5995/5995 - 0s - loss: 0.3648 - accuracy: 0.8142\n",
      "Epoch 34/100\n",
      "5995/5995 - 0s - loss: 0.3639 - accuracy: 0.8137\n",
      "Epoch 35/100\n",
      "5995/5995 - 0s - loss: 0.3653 - accuracy: 0.8148\n",
      "Epoch 36/100\n",
      "5995/5995 - 0s - loss: 0.3642 - accuracy: 0.8140\n",
      "Epoch 37/100\n",
      "5995/5995 - 0s - loss: 0.3624 - accuracy: 0.8143\n",
      "Epoch 38/100\n",
      "5995/5995 - 0s - loss: 0.3622 - accuracy: 0.8180\n",
      "Epoch 39/100\n",
      "5995/5995 - 0s - loss: 0.3624 - accuracy: 0.8153\n",
      "Epoch 40/100\n",
      "5995/5995 - 0s - loss: 0.3621 - accuracy: 0.8153\n",
      "Epoch 41/100\n",
      "5995/5995 - 0s - loss: 0.3617 - accuracy: 0.8140\n",
      "Epoch 42/100\n",
      "5995/5995 - 0s - loss: 0.3624 - accuracy: 0.8163\n",
      "Epoch 43/100\n",
      "5995/5995 - 0s - loss: 0.3617 - accuracy: 0.8198\n",
      "Epoch 44/100\n",
      "5995/5995 - 0s - loss: 0.3606 - accuracy: 0.8175\n",
      "Epoch 45/100\n",
      "5995/5995 - 0s - loss: 0.3611 - accuracy: 0.8152\n",
      "Epoch 46/100\n",
      "5995/5995 - 0s - loss: 0.3606 - accuracy: 0.8142\n",
      "Epoch 47/100\n",
      "5995/5995 - 0s - loss: 0.3605 - accuracy: 0.8180\n",
      "Epoch 48/100\n",
      "5995/5995 - 0s - loss: 0.3609 - accuracy: 0.8140\n",
      "Epoch 49/100\n",
      "5995/5995 - 0s - loss: 0.3595 - accuracy: 0.8180\n",
      "Epoch 50/100\n",
      "5995/5995 - 0s - loss: 0.3605 - accuracy: 0.8165\n",
      "Epoch 51/100\n",
      "5995/5995 - 0s - loss: 0.3599 - accuracy: 0.8153\n",
      "Epoch 52/100\n",
      "5995/5995 - 0s - loss: 0.3599 - accuracy: 0.8168\n",
      "Epoch 53/100\n",
      "5995/5995 - 0s - loss: 0.3604 - accuracy: 0.8158\n",
      "Epoch 54/100\n",
      "5995/5995 - 0s - loss: 0.3594 - accuracy: 0.8148\n",
      "Epoch 55/100\n",
      "5995/5995 - 0s - loss: 0.3605 - accuracy: 0.8142\n",
      "Epoch 56/100\n",
      "5995/5995 - 0s - loss: 0.3584 - accuracy: 0.8198\n",
      "Epoch 57/100\n",
      "5995/5995 - 0s - loss: 0.3611 - accuracy: 0.8130\n",
      "Epoch 58/100\n",
      "5995/5995 - 0s - loss: 0.3587 - accuracy: 0.8162\n",
      "Epoch 59/100\n",
      "5995/5995 - 0s - loss: 0.3589 - accuracy: 0.8187\n",
      "Epoch 60/100\n",
      "5995/5995 - 0s - loss: 0.3591 - accuracy: 0.8162\n",
      "Epoch 61/100\n",
      "5995/5995 - 0s - loss: 0.3589 - accuracy: 0.8155\n",
      "Epoch 62/100\n",
      "5995/5995 - 0s - loss: 0.3575 - accuracy: 0.8190\n",
      "Epoch 63/100\n",
      "5995/5995 - 0s - loss: 0.3581 - accuracy: 0.8170\n",
      "Epoch 64/100\n",
      "5995/5995 - 0s - loss: 0.3578 - accuracy: 0.8180\n",
      "Epoch 65/100\n",
      "5995/5995 - 0s - loss: 0.3578 - accuracy: 0.8193\n",
      "Epoch 66/100\n",
      "5995/5995 - 0s - loss: 0.3578 - accuracy: 0.8148\n",
      "Epoch 67/100\n",
      "5995/5995 - 0s - loss: 0.3570 - accuracy: 0.8193\n",
      "Epoch 68/100\n",
      "5995/5995 - 0s - loss: 0.3572 - accuracy: 0.8193\n",
      "Epoch 69/100\n",
      "5995/5995 - 0s - loss: 0.3572 - accuracy: 0.8188\n",
      "Epoch 70/100\n",
      "5995/5995 - 0s - loss: 0.3573 - accuracy: 0.8192\n",
      "Epoch 71/100\n",
      "5995/5995 - 0s - loss: 0.3577 - accuracy: 0.8215\n",
      "Epoch 72/100\n",
      "5995/5995 - 0s - loss: 0.3570 - accuracy: 0.8215\n",
      "Epoch 73/100\n",
      "5995/5995 - 0s - loss: 0.3564 - accuracy: 0.8173\n",
      "Epoch 74/100\n",
      "5995/5995 - 0s - loss: 0.3562 - accuracy: 0.8192\n",
      "Epoch 75/100\n",
      "5995/5995 - 0s - loss: 0.3564 - accuracy: 0.8197\n",
      "Epoch 76/100\n",
      "5995/5995 - 0s - loss: 0.3560 - accuracy: 0.8177\n",
      "Epoch 77/100\n",
      "5995/5995 - 0s - loss: 0.3559 - accuracy: 0.8183\n",
      "Epoch 78/100\n",
      "5995/5995 - 0s - loss: 0.3554 - accuracy: 0.8202\n",
      "Epoch 79/100\n",
      "5995/5995 - 0s - loss: 0.3556 - accuracy: 0.8207\n",
      "Epoch 80/100\n",
      "5995/5995 - 0s - loss: 0.3561 - accuracy: 0.8204\n",
      "Epoch 81/100\n",
      "5995/5995 - 0s - loss: 0.3552 - accuracy: 0.8167\n",
      "Epoch 82/100\n",
      "5995/5995 - 0s - loss: 0.3545 - accuracy: 0.8198\n",
      "Epoch 83/100\n",
      "5995/5995 - 0s - loss: 0.3546 - accuracy: 0.8212\n",
      "Epoch 84/100\n",
      "5995/5995 - 0s - loss: 0.3556 - accuracy: 0.8198\n",
      "Epoch 85/100\n",
      "5995/5995 - 0s - loss: 0.3549 - accuracy: 0.8180\n",
      "Epoch 86/100\n",
      "5995/5995 - 0s - loss: 0.3561 - accuracy: 0.8220\n",
      "Epoch 87/100\n",
      "5995/5995 - 0s - loss: 0.3545 - accuracy: 0.8195\n",
      "Epoch 88/100\n",
      "5995/5995 - 0s - loss: 0.3554 - accuracy: 0.8200\n",
      "Epoch 89/100\n",
      "5995/5995 - 0s - loss: 0.3547 - accuracy: 0.8209\n",
      "Epoch 90/100\n",
      "5995/5995 - 0s - loss: 0.3548 - accuracy: 0.8219\n",
      "Epoch 91/100\n",
      "5995/5995 - 0s - loss: 0.3539 - accuracy: 0.8237\n",
      "Epoch 92/100\n",
      "5995/5995 - 0s - loss: 0.3540 - accuracy: 0.8209\n",
      "Epoch 93/100\n",
      "5995/5995 - 0s - loss: 0.3542 - accuracy: 0.8207\n",
      "Epoch 94/100\n",
      "5995/5995 - 0s - loss: 0.3532 - accuracy: 0.8227\n",
      "Epoch 95/100\n",
      "5995/5995 - 0s - loss: 0.3534 - accuracy: 0.8204\n",
      "Epoch 96/100\n",
      "5995/5995 - 0s - loss: 0.3536 - accuracy: 0.8225\n",
      "Epoch 97/100\n",
      "5995/5995 - 0s - loss: 0.3538 - accuracy: 0.8212\n",
      "Epoch 98/100\n",
      "5995/5995 - 0s - loss: 0.3527 - accuracy: 0.8259\n",
      "Epoch 99/100\n",
      "5995/5995 - 0s - loss: 0.3528 - accuracy: 0.8225\n",
      "Epoch 100/100\n",
      "5995/5995 - 0s - loss: 0.3543 - accuracy: 0.8215\n"
     ]
    },
    {
     "data": {
      "text/plain": [
       "<tensorflow.python.keras.callbacks.History at 0x113746278>"
      ]
     },
     "execution_count": 15,
     "metadata": {},
     "output_type": "execute_result"
    }
   ],
   "source": [
    "# Fit (train) the model\n",
    "model.fit(\n",
    "    X_train_scaled,\n",
    "    y_train_categorical,\n",
    "    epochs=100,\n",
    "    shuffle=True,\n",
    "    verbose=2\n",
    ")"
   ]
  },
  {
   "cell_type": "markdown",
   "metadata": {},
   "source": [
    "## Quantify the trained model"
   ]
  },
  {
   "cell_type": "code",
   "execution_count": 16,
   "metadata": {},
   "outputs": [
    {
     "name": "stdout",
     "output_type": "stream",
     "text": [
      "1999/1999 - 0s - loss: 0.3553 - accuracy: 0.8244\n",
      "Normal Neural Network - Loss: 0.355268792026099, Accuracy: 0.8244122266769409\n"
     ]
    }
   ],
   "source": [
    "model_loss, model_accuracy = model.evaluate(\n",
    "    X_test_scaled, y_test_categorical, verbose=2)\n",
    "print(\n",
    "    f\"Normal Neural Network - Loss: {model_loss}, Accuracy: {model_accuracy}\")"
   ]
  },
  {
   "cell_type": "markdown",
   "metadata": {},
   "source": [
    "# Summary:"
   ]
  },
  {
   "cell_type": "markdown",
   "metadata": {},
   "source": [
    "### Neural Network: 82.4%"
   ]
  },
  {
   "cell_type": "code",
   "execution_count": null,
   "metadata": {},
   "outputs": [],
   "source": []
  }
 ],
 "metadata": {
  "kernelspec": {
   "display_name": "Python 3",
   "language": "python",
   "name": "python3"
  },
  "language_info": {
   "codemirror_mode": {
    "name": "ipython",
    "version": 3
   },
   "file_extension": ".py",
   "mimetype": "text/x-python",
   "name": "python",
   "nbconvert_exporter": "python",
   "pygments_lexer": "ipython3",
   "version": "3.7.3"
  }
 },
 "nbformat": 4,
 "nbformat_minor": 2
}
